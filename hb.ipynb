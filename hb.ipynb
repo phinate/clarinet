{
 "cells": [
  {
   "cell_type": "code",
   "execution_count": 13,
   "source": [
    "import json\n",
    "\n",
    "with open('hb.json', 'r') as f:\n",
    "    hb = json.load(f)\n",
    "hb['CPTs']"
   ],
   "outputs": [
    {
     "output_type": "execute_result",
     "data": {
      "text/plain": [
       "[[{'visit': 0.01, 'no_visit': 0.99}],\n",
       " [{'VisitAsia': 'visit', 'present': 0.05, 'absent': 0.95},\n",
       "  {'VisitAsia': 'no_visit', 'present': 0.01, 'absent': 0.99}],\n",
       " [{'yes': 0.5, 'no': 0.5}],\n",
       " [{'Smoking': 'yes', 'yes': 0.1, 'no': 0.9},\n",
       "  {'Smoking': 'no', 'yes': 0.01, 'no': 0.99}],\n",
       " [{'Tubercolosis': 'present', 'Cancer': 'yes', 'yes': 1, 'no': 0},\n",
       "  {'Tubercolosis': 'present', 'Cancer': 'no', 'yes': 1, 'no': 0},\n",
       "  {'Tubercolosis': 'absent', 'Cancer': 'yes', 'yes': 1, 'no': 0},\n",
       "  {'Tubercolosis': 'absent', 'Cancer': 'no', 'yes': 0, 'no': 1}],\n",
       " [{'TbOrCa': 'yes', 'abnormal': 0.98, 'normal': 0.02},\n",
       "  {'TbOrCa': 'no', 'abnormal': 0.05, 'normal': 0.95}],\n",
       " [{'TbOrCa': 'yes', 'Bronchitis': 'yes', 'yes': 0.9, 'no': 0.1},\n",
       "  {'TbOrCa': 'yes', 'Bronchitis': 'no', 'yes': 0.7, 'no': 0.3},\n",
       "  {'TbOrCa': 'no', 'Bronchitis': 'yes', 'yes': 0.8, 'no': 0.2},\n",
       "  {'TbOrCa': 'no', 'Bronchitis': 'no', 'yes': 0.1, 'no': 0.9}],\n",
       " [{'Smoking': 'yes', 'yes': 0.6, 'no': 0.4},\n",
       "  {'Smoking': 'no', 'yes': 0.3, 'no': 0.7}]]"
      ]
     },
     "metadata": {},
     "execution_count": 13
    }
   ],
   "metadata": {}
  },
  {
   "cell_type": "code",
   "execution_count": null,
   "source": [
    "\n",
    "[list(d.values()) for d in hb['CPTs'][1]]"
   ],
   "outputs": [],
   "metadata": {}
  },
  {
   "cell_type": "code",
   "execution_count": 15,
   "source": [
    "node_dict = {\n",
    "    name:dict(\n",
    "        name=name, states=states, parents=[], children=[]\n",
    "    ) for name, states in zip(hb['nodes'], hb['stateNames'])\n",
    "}\n",
    "\n",
    "for link in hb['linkList']:\n",
    "    node_dict[link['Child']]['parents'].append(link['Parent'])\n",
    "    node_dict[link['Parent']]['children'].append(link['Child'])\n",
    "\n",
    "node_dict"
   ],
   "outputs": [
    {
     "output_type": "execute_result",
     "data": {
      "text/plain": [
       "{'VisitAsia': {'name': 'VisitAsia',\n",
       "  'states': ['visit', 'no_visit'],\n",
       "  'parents': [],\n",
       "  'children': ['Tubercolosis']},\n",
       " 'Tubercolosis': {'name': 'Tubercolosis',\n",
       "  'states': ['present', 'absent'],\n",
       "  'parents': ['VisitAsia'],\n",
       "  'children': ['TbOrCa']},\n",
       " 'Smoking': {'name': 'Smoking',\n",
       "  'states': ['yes', 'no'],\n",
       "  'parents': [],\n",
       "  'children': ['Cancer', 'Bronchitis']},\n",
       " 'Cancer': {'name': 'Cancer',\n",
       "  'states': ['yes', 'no'],\n",
       "  'parents': ['Smoking'],\n",
       "  'children': ['TbOrCa']},\n",
       " 'TbOrCa': {'name': 'TbOrCa',\n",
       "  'states': ['yes', 'no'],\n",
       "  'parents': ['Tubercolosis', 'Cancer'],\n",
       "  'children': ['XRay', 'Dyspnea']},\n",
       " 'XRay': {'name': 'XRay',\n",
       "  'states': ['abnormal', 'normal'],\n",
       "  'parents': ['TbOrCa'],\n",
       "  'children': []},\n",
       " 'Dyspnea': {'name': 'Dyspnea',\n",
       "  'states': ['yes', 'no'],\n",
       "  'parents': ['TbOrCa', 'Bronchitis'],\n",
       "  'children': []},\n",
       " 'Bronchitis': {'name': 'Bronchitis',\n",
       "  'states': ['yes', 'no'],\n",
       "  'parents': ['Smoking'],\n",
       "  'children': ['Dyspnea']}}"
      ]
     },
     "metadata": {},
     "execution_count": 15
    }
   ],
   "metadata": {}
  },
  {
   "cell_type": "code",
   "execution_count": null,
   "source": [],
   "outputs": [],
   "metadata": {}
  }
 ],
 "metadata": {
  "orig_nbformat": 4,
  "language_info": {
   "name": "python"
  }
 },
 "nbformat": 4,
 "nbformat_minor": 2
}
